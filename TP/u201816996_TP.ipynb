{
  "nbformat": 4,
  "nbformat_minor": 0,
  "metadata": {
    "colab": {
      "provenance": [],
      "collapsed_sections": [
        "AZ6reyLkQ1gx",
        "xzbzGI8bQ33y"
      ]
    },
    "kernelspec": {
      "name": "python3",
      "display_name": "Python 3"
    },
    "language_info": {
      "name": "python"
    }
  },
  "cells": [
    {
      "cell_type": "markdown",
      "source": [
        "#Librerias"
      ],
      "metadata": {
        "id": "skTJ8NqdQoje"
      }
    },
    {
      "cell_type": "code",
      "execution_count": 2,
      "metadata": {
        "id": "8j_QR3__QU5F"
      },
      "outputs": [],
      "source": [
        "import numpy as np\n",
        "import matplotlib.pyplot as plt\n",
        "import random"
      ]
    },
    {
      "cell_type": "markdown",
      "source": [
        "#Espacio de Búsqueda"
      ],
      "metadata": {
        "id": "AZ6reyLkQ1gx"
      }
    },
    {
      "cell_type": "code",
      "source": [
        "class Contenedor:\n",
        "  W = 0 #Peso\n",
        "  A = 0 #Ancho \n",
        "  L = 0 #Largo\n",
        "  obj = [] #Vector de objetos\n",
        "\n",
        "  def __init__(self, w, a, l):\n",
        "    self.W = w\n",
        "    self.A = a\n",
        "    self.L = l"
      ],
      "metadata": {
        "id": "m12A6axTQ3jV"
      },
      "execution_count": 14,
      "outputs": []
    },
    {
      "cell_type": "code",
      "source": [
        "#Valores para el contenedor\n",
        "w = random.randint(10, 50)\n",
        "a = random.randint(10, 100)\n",
        "l = random.randint(10, 100)"
      ],
      "metadata": {
        "id": "Srpyaa-sfTnF"
      },
      "execution_count": 15,
      "outputs": []
    },
    {
      "cell_type": "code",
      "source": [
        "#Crear el contenedor\n",
        "contenedor = Contenedor(w, a, l)"
      ],
      "metadata": {
        "id": "TwCg6XEvfjB2"
      },
      "execution_count": 16,
      "outputs": []
    },
    {
      "cell_type": "code",
      "source": [
        "#Mostrar los valores del contenedor\n",
        "print(\"Valores del contenedor: \")\n",
        "print(\"Peso: \", contenedor.W)\n",
        "print(\"Ancho: \", contenedor.A)\n",
        "print(\"Largo: \", contenedor.L)\n",
        "print(\"Cantidad de objetos: \", len(contenedor.obj))"
      ],
      "metadata": {
        "colab": {
          "base_uri": "https://localhost:8080/"
        },
        "id": "TcVDu3ZxfoOk",
        "outputId": "4c7ae8ea-06cf-4135-c61a-d643dcc194bc"
      },
      "execution_count": 18,
      "outputs": [
        {
          "output_type": "stream",
          "name": "stdout",
          "text": [
            "Valores del contenedor: \n",
            "Peso:  42\n",
            "Ancho:  41\n",
            "Largo:  94\n",
            "Cantidad de objetos:  0\n"
          ]
        }
      ]
    },
    {
      "cell_type": "markdown",
      "source": [
        "#Espacio de Solución"
      ],
      "metadata": {
        "id": "xzbzGI8bQ33y"
      }
    },
    {
      "cell_type": "code",
      "source": [
        "class Paquete:\n",
        "  W = 0 #Peso\n",
        "  V = 0 #Valor\n",
        "  A = 0 #Ancho \n",
        "  L = 0 #Largo\n",
        "\n",
        "  def __init__(self, w, a, l, v):\n",
        "    self.W = w\n",
        "    self.A = a\n",
        "    self.L = l\n",
        "    self.V = v"
      ],
      "metadata": {
        "id": "HWWZdilhQ5oj"
      },
      "execution_count": 4,
      "outputs": []
    },
    {
      "cell_type": "code",
      "source": [
        "objetos = []"
      ],
      "metadata": {
        "id": "TuN5HKvlcrtw"
      },
      "execution_count": 5,
      "outputs": []
    },
    {
      "cell_type": "code",
      "source": [
        "for i in range(10):\n",
        "  w = random.randint(1, 15)\n",
        "  a = random.randint(1, 10)\n",
        "  l = random.randint(1, 10)\n",
        "  v = random.randint(1, 20)\n",
        "\n",
        "  x = Paquete(w,a,l,v)\n",
        "  objetos.append(x)"
      ],
      "metadata": {
        "id": "VXDYCj1Dc_rw"
      },
      "execution_count": 10,
      "outputs": []
    },
    {
      "cell_type": "code",
      "source": [
        "print(\"La lista de paquetes que pueden entrar en el contenedor\")\n",
        "for i in range(len(objetos)):\n",
        "  print(\"Objeto: \", i + 1)\n",
        "  print(\"Valor: \", objetos[i].V)\n",
        "  print(\"Peso: \", objetos[i].W)\n",
        "  print(\"Ancho: \", objetos[i].A)\n",
        "  print(\"Largo: \", objetos[i].L)\n",
        "  print()"
      ],
      "metadata": {
        "colab": {
          "base_uri": "https://localhost:8080/"
        },
        "id": "SWNC8RYHepRC",
        "outputId": "61ed41bf-d0e6-4a42-ece4-2da7f00e5b1a"
      },
      "execution_count": 13,
      "outputs": [
        {
          "output_type": "stream",
          "name": "stdout",
          "text": [
            "La lista de paquetes que pueden entrar en el contenedor\n",
            "Objeto:  1\n",
            "Valor:  15\n",
            "Peso:  8\n",
            "Ancho:  9\n",
            "Largo:  2\n",
            "\n",
            "Objeto:  2\n",
            "Valor:  19\n",
            "Peso:  9\n",
            "Ancho:  4\n",
            "Largo:  2\n",
            "\n",
            "Objeto:  3\n",
            "Valor:  2\n",
            "Peso:  4\n",
            "Ancho:  6\n",
            "Largo:  3\n",
            "\n",
            "Objeto:  4\n",
            "Valor:  8\n",
            "Peso:  9\n",
            "Ancho:  8\n",
            "Largo:  5\n",
            "\n",
            "Objeto:  5\n",
            "Valor:  12\n",
            "Peso:  6\n",
            "Ancho:  5\n",
            "Largo:  2\n",
            "\n",
            "Objeto:  6\n",
            "Valor:  6\n",
            "Peso:  9\n",
            "Ancho:  6\n",
            "Largo:  9\n",
            "\n",
            "Objeto:  7\n",
            "Valor:  11\n",
            "Peso:  3\n",
            "Ancho:  6\n",
            "Largo:  2\n",
            "\n",
            "Objeto:  8\n",
            "Valor:  7\n",
            "Peso:  5\n",
            "Ancho:  10\n",
            "Largo:  4\n",
            "\n",
            "Objeto:  9\n",
            "Valor:  1\n",
            "Peso:  7\n",
            "Ancho:  5\n",
            "Largo:  3\n",
            "\n",
            "Objeto:  10\n",
            "Valor:  3\n",
            "Peso:  12\n",
            "Ancho:  1\n",
            "Largo:  7\n",
            "\n"
          ]
        }
      ]
    }
  ]
}